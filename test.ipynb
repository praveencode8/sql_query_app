{
 "cells": [
  {
   "cell_type": "code",
   "execution_count": 1,
   "metadata": {},
   "outputs": [
    {
     "name": "stdout",
     "output_type": "stream",
     "text": [
      "Renamed: \"BROKER AUM\" → \"BROKER_AUM\"\n",
      "Renamed: \"FOLIO BANK DETAILS\" → \"FOLIO_BANK_DETAILS\"\n",
      "Renamed: \"SIP FACT\" → \"SIP_FACT\"\n",
      "Renamed: \"TRXN FACT\" → \"TRXN_FACT\"\n",
      "Renamed: \"POA DETAILS\" → \"POA_DETAILS\"\n",
      "Renamed: \"BRANCH DETAILS\" → \"BRANCH_DETAILS\"\n",
      "Renamed: \"PURCHASE DETAILS\" → \"PURCHASE_DETAILS\"\n",
      "Renamed: \"BROKER DETAILS\" → \"BROKER_DETAILS\"\n",
      "Renamed: \"ASSETWISE ALLOCATION\" → \"ASSETWISE_ALLOCATION\"\n",
      "Renamed: \"BROKER DEALER\" → \"BROKER_DEALER\"\n",
      "Renamed: \"NOMINEE DETAILS\" → \"NOMINEE_DETAILS\"\n",
      "Renamed: \"OCCUPATION DETAILS\" → \"OCCUPATION_DETAILS\"\n",
      "Renamed: \"REDEMPTION DETAILS\" → \"REDEMPTION_DETAILS\"\n",
      "Renamed: \"BROKER PAYMENTS\" → \"BROKER_PAYMENTS\"\n"
     ]
    }
   ],
   "source": [
    "import sqlite3\n",
    "\n",
    "DB_PATH = 'database.db'\n",
    "\n",
    "with sqlite3.connect(DB_PATH) as conn:\n",
    "    cursor = conn.cursor()\n",
    "    tables = cursor.execute(\"SELECT name FROM sqlite_master WHERE type='table';\").fetchall()\n",
    "\n",
    "    for (old_name,) in tables:\n",
    "        if \" \" in old_name:\n",
    "            new_name = old_name.replace(\" \", \"_\")\n",
    "            try:\n",
    "                cursor.execute(f'ALTER TABLE \"{old_name}\" RENAME TO \"{new_name}\";')\n",
    "                print(f'Renamed: \"{old_name}\" → \"{new_name}\"')\n",
    "            except sqlite3.OperationalError as e:\n",
    "                print(f'Error renaming \"{old_name}\": {e}')\n"
   ]
  }
 ],
 "metadata": {
  "kernelspec": {
   "display_name": "Python 3",
   "language": "python",
   "name": "python3"
  },
  "language_info": {
   "codemirror_mode": {
    "name": "ipython",
    "version": 3
   },
   "file_extension": ".py",
   "mimetype": "text/x-python",
   "name": "python",
   "nbconvert_exporter": "python",
   "pygments_lexer": "ipython3",
   "version": "3.10.13"
  }
 },
 "nbformat": 4,
 "nbformat_minor": 2
}
